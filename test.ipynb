{
 "cells": [
  {
   "cell_type": "code",
   "execution_count": 3,
   "metadata": {},
   "outputs": [],
   "source": [
    "import aes\n",
    "from binascii import hexlify\n",
    "import numpy as np"
   ]
  },
  {
   "cell_type": "code",
   "execution_count": 19,
   "metadata": {},
   "outputs": [],
   "source": [
    "text = '0xdesenvolvimento!euprogramo'\n",
    "#063f99bdc5940701b84846b236e354490166caebc8c2030be54442e76eb0034c"
   ]
  },
  {
   "cell_type": "code",
   "execution_count": 20,
   "metadata": {},
   "outputs": [],
   "source": [
    "pt = text.encode().hex()\n",
    "mk = 0x14015e21c70030091f5e70283b1e64f8"
   ]
  },
  {
   "cell_type": "markdown",
   "metadata": {},
   "source": [
    "## Criptografando texto simples"
   ]
  },
  {
   "cell_type": "code",
   "execution_count": 29,
   "metadata": {},
   "outputs": [
    {
     "name": "stderr",
     "output_type": "stream",
     "text": [
      "C:\\Users\\bruno.gabriel\\AppData\\Local\\Packages\\PythonSoftwareFoundation.Python.3.11_qbz5n2kfra8p0\\LocalCache\\local-packages\\Python311\\site-packages\\aes\\utils\\_format_tools.py:18: UserWarning: data lost, input: 16 / lost: 15000825677862930950904378985\n",
      "  warnings.warn(\"data lost, input: \" + str(arr_size) + \" / lost: \" + str((Int >> (8 * (arr_size)))))\n"
     ]
    }
   ],
   "source": [
    "mk_arr = aes.utils.int2arr8bit(mk, 16)\n",
    "pt_arr = aes.utils.int2arr8bit(int(pt, 16), 16)"
   ]
  },
  {
   "cell_type": "code",
   "execution_count": 35,
   "metadata": {},
   "outputs": [
    {
     "name": "stdout",
     "output_type": "stream",
     "text": [
      "0x6d656e746f21657570726f6772616d6f\n"
     ]
    }
   ],
   "source": [
    "print(\"0x\"+hex(aes.utils.arr8bit2int(pt_arr))[2:].zfill(32))"
   ]
  },
  {
   "cell_type": "code",
   "execution_count": 30,
   "metadata": {},
   "outputs": [],
   "source": [
    "cipher = aes.aes(mk, 128, mode='ECB', padding='PKCS#7')"
   ]
  },
  {
   "cell_type": "code",
   "execution_count": 31,
   "metadata": {},
   "outputs": [],
   "source": [
    "ct_arr = cipher.enc(pt_arr)"
   ]
  },
  {
   "cell_type": "code",
   "execution_count": 33,
   "metadata": {},
   "outputs": [
    {
     "name": "stdout",
     "output_type": "stream",
     "text": [
      "0xdef59d95cca84e8e9ad968fe32867569d8cacc07e1aea100960dde287678316f\n"
     ]
    }
   ],
   "source": [
    "print(\"0x\"+hex(aes.utils.arr8bit2int(ct_arr))[2:].zfill(32))"
   ]
  },
  {
   "cell_type": "code",
   "execution_count": 34,
   "metadata": {},
   "outputs": [
    {
     "name": "stdout",
     "output_type": "stream",
     "text": [
      "0x6d656e746f21657570726f6772616d6f\n"
     ]
    }
   ],
   "source": [
    "pr_arr = cipher.dec(ct_arr)\n",
    "print(\"0x\"+hex(aes.utils.arr8bit2int(pr_arr))[2:].zfill(32))"
   ]
  },
  {
   "cell_type": "markdown",
   "metadata": {},
   "source": [
    "## Verificando a key expansion"
   ]
  },
  {
   "cell_type": "code",
   "execution_count": 4,
   "metadata": {},
   "outputs": [],
   "source": [
    "mk = 0x4145494d42464a4e43474b4f44484c50"
   ]
  },
  {
   "cell_type": "code",
   "execution_count": 5,
   "metadata": {},
   "outputs": [],
   "source": [
    "mk_arr = aes.utils.int2arr8bit(mk, 16)"
   ]
  },
  {
   "cell_type": "code",
   "execution_count": 6,
   "metadata": {},
   "outputs": [],
   "source": [
    "rk_arr = aes.core.key_expansion(mk_arr, 128)"
   ]
  },
  {
   "cell_type": "code",
   "execution_count": 7,
   "metadata": {},
   "outputs": [
    {
     "data": {
      "text/plain": [
       "[b'41',\n",
       " b'45',\n",
       " b'49',\n",
       " b'4d',\n",
       " b'42',\n",
       " b'46',\n",
       " b'4a',\n",
       " b'4e',\n",
       " b'43',\n",
       " b'47',\n",
       " b'4b',\n",
       " b'4f',\n",
       " b'44',\n",
       " b'48',\n",
       " b'4c',\n",
       " b'50',\n",
       " b'12',\n",
       " b'6c',\n",
       " b'1a',\n",
       " b'56',\n",
       " b'50',\n",
       " b'2a',\n",
       " b'50',\n",
       " b'18',\n",
       " b'13',\n",
       " b'6d',\n",
       " b'1b',\n",
       " b'57',\n",
       " b'57',\n",
       " b'25',\n",
       " b'57',\n",
       " b'07',\n",
       " b'2f',\n",
       " b'37',\n",
       " b'df',\n",
       " b'0d',\n",
       " b'7f',\n",
       " b'1d',\n",
       " b'8f',\n",
       " b'15',\n",
       " b'6c',\n",
       " b'70',\n",
       " b'94',\n",
       " b'42',\n",
       " b'3b',\n",
       " b'55',\n",
       " b'c3',\n",
       " b'45',\n",
       " b'd7',\n",
       " b'19',\n",
       " b'b1',\n",
       " b'ef',\n",
       " b'a8',\n",
       " b'04',\n",
       " b'3e',\n",
       " b'fa',\n",
       " b'c4',\n",
       " b'74',\n",
       " b'aa',\n",
       " b'b8',\n",
       " b'ff',\n",
       " b'21',\n",
       " b'69',\n",
       " b'fd',\n",
       " b'22',\n",
       " b'e0',\n",
       " b'e5',\n",
       " b'f9',\n",
       " b'8a',\n",
       " b'e4',\n",
       " b'db',\n",
       " b'03',\n",
       " b'4e',\n",
       " b'90',\n",
       " b'71',\n",
       " b'bb',\n",
       " b'b1',\n",
       " b'b1',\n",
       " b'18',\n",
       " b'46',\n",
       " b'fa',\n",
       " b'4d',\n",
       " b'bf',\n",
       " b'31',\n",
       " b'70',\n",
       " b'a9',\n",
       " b'64',\n",
       " b'32',\n",
       " b'3e',\n",
       " b'39',\n",
       " b'15',\n",
       " b'89',\n",
       " b'8f',\n",
       " b'88',\n",
       " b'0d',\n",
       " b'cf',\n",
       " b'1e',\n",
       " b'9a',\n",
       " b'35',\n",
       " b'42',\n",
       " b'6e',\n",
       " b'33',\n",
       " b'51',\n",
       " b'70',\n",
       " b'50',\n",
       " b'0a',\n",
       " b'44',\n",
       " b'f9',\n",
       " b'df',\n",
       " b'82',\n",
       " b'49',\n",
       " b'36',\n",
       " b'4d',\n",
       " b'a1',\n",
       " b'30',\n",
       " b'dc',\n",
       " b'23',\n",
       " b'92',\n",
       " b'61',\n",
       " b'ac',\n",
       " b'73',\n",
       " b'98',\n",
       " b'25',\n",
       " b'55',\n",
       " b'ac',\n",
       " b'1a',\n",
       " b'6c',\n",
       " b'63',\n",
       " b'6f',\n",
       " b'f1',\n",
       " b'cb',\n",
       " b'4d',\n",
       " b'4c',\n",
       " b'63',\n",
       " b'aa',\n",
       " b'e1',\n",
       " b'3f',\n",
       " b'fb',\n",
       " b'8f',\n",
       " b'b4',\n",
       " b'93',\n",
       " b'e1',\n",
       " b'e3',\n",
       " b'd7',\n",
       " b'8c',\n",
       " b'e0',\n",
       " b'c5',\n",
       " b'91',\n",
       " b'c0',\n",
       " b'83',\n",
       " b'6f',\n",
       " b'70',\n",
       " b'ff',\n",
       " b'78',\n",
       " b'e0',\n",
       " b'c4',\n",
       " b'6c',\n",
       " b'99',\n",
       " b'03',\n",
       " b'13',\n",
       " b'54',\n",
       " b'9b',\n",
       " b'b8',\n",
       " b'c1',\n",
       " b'94',\n",
       " b'18',\n",
       " b'd7',\n",
       " b'b1',\n",
       " b'6b',\n",
       " b'60',\n",
       " b'37',\n",
       " b'75',\n",
       " b'07',\n",
       " b'f9',\n",
       " b'34',\n",
       " b'66']"
      ]
     },
     "execution_count": 7,
     "metadata": {},
     "output_type": "execute_result"
    }
   ],
   "source": [
    "[hexlify(b.to_bytes()) for b in rk_arr]"
   ]
  }
 ],
 "metadata": {
  "kernelspec": {
   "display_name": "Python 3",
   "language": "python",
   "name": "python3"
  },
  "language_info": {
   "codemirror_mode": {
    "name": "ipython",
    "version": 3
   },
   "file_extension": ".py",
   "mimetype": "text/x-python",
   "name": "python",
   "nbconvert_exporter": "python",
   "pygments_lexer": "ipython3",
   "version": "3.11.9"
  }
 },
 "nbformat": 4,
 "nbformat_minor": 2
}
