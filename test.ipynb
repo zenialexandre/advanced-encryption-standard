{
 "cells": [
  {
   "cell_type": "code",
   "execution_count": 4,
   "metadata": {},
   "outputs": [],
   "source": [
    "import aes\n",
    "from binascii import hexlify\n",
    "import numpy as np"
   ]
  },
  {
   "cell_type": "code",
   "execution_count": 19,
   "metadata": {},
   "outputs": [],
   "source": [
    "text = '0xdesenvolvimento!euprogramo'"
   ]
  },
  {
   "cell_type": "code",
   "execution_count": 20,
   "metadata": {},
   "outputs": [],
   "source": [
    "pt = text.encode().hex()\n",
    "mk = 0x14015e21c70030091f5e70283b1e64f8"
   ]
  },
  {
   "cell_type": "markdown",
   "metadata": {},
   "source": [
    "## Criptografando texto simples"
   ]
  },
  {
   "cell_type": "code",
   "execution_count": 29,
   "metadata": {},
   "outputs": [
    {
     "name": "stderr",
     "output_type": "stream",
     "text": [
      "C:\\Users\\bruno.gabriel\\AppData\\Local\\Packages\\PythonSoftwareFoundation.Python.3.11_qbz5n2kfra8p0\\LocalCache\\local-packages\\Python311\\site-packages\\aes\\utils\\_format_tools.py:18: UserWarning: data lost, input: 16 / lost: 15000825677862930950904378985\n",
      "  warnings.warn(\"data lost, input: \" + str(arr_size) + \" / lost: \" + str((Int >> (8 * (arr_size)))))\n"
     ]
    }
   ],
   "source": [
    "mk_arr = aes.utils.int2arr8bit(mk, 16)\n",
    "pt_arr = aes.utils.int2arr8bit(int(pt, 16), 16)"
   ]
  },
  {
   "cell_type": "code",
   "execution_count": 35,
   "metadata": {},
   "outputs": [
    {
     "name": "stdout",
     "output_type": "stream",
     "text": [
      "0x6d656e746f21657570726f6772616d6f\n"
     ]
    }
   ],
   "source": [
    "print(\"0x\"+hex(aes.utils.arr8bit2int(pt_arr))[2:].zfill(32))"
   ]
  },
  {
   "cell_type": "code",
   "execution_count": 30,
   "metadata": {},
   "outputs": [],
   "source": [
    "cipher = aes.aes(mk, 128, mode='ECB', padding='PKCS#7')"
   ]
  },
  {
   "cell_type": "code",
   "execution_count": 31,
   "metadata": {},
   "outputs": [],
   "source": [
    "ct_arr = cipher.enc(pt_arr)"
   ]
  },
  {
   "cell_type": "code",
   "execution_count": 33,
   "metadata": {},
   "outputs": [
    {
     "name": "stdout",
     "output_type": "stream",
     "text": [
      "0xdef59d95cca84e8e9ad968fe32867569d8cacc07e1aea100960dde287678316f\n"
     ]
    }
   ],
   "source": [
    "print(\"0x\"+hex(aes.utils.arr8bit2int(ct_arr))[2:].zfill(32))"
   ]
  },
  {
   "cell_type": "code",
   "execution_count": 34,
   "metadata": {},
   "outputs": [
    {
     "name": "stdout",
     "output_type": "stream",
     "text": [
      "0x6d656e746f21657570726f6772616d6f\n"
     ]
    }
   ],
   "source": [
    "pr_arr = cipher.dec(ct_arr)\n",
    "print(\"0x\"+hex(aes.utils.arr8bit2int(pr_arr))[2:].zfill(32))"
   ]
  },
  {
   "cell_type": "markdown",
   "metadata": {},
   "source": [
    "## Verificando a key expansion"
   ]
  },
  {
   "cell_type": "code",
   "execution_count": 24,
   "metadata": {},
   "outputs": [],
   "source": [
    "mk_arr = aes.utils.int2arr8bit(mk, 16)"
   ]
  },
  {
   "cell_type": "code",
   "execution_count": 25,
   "metadata": {},
   "outputs": [],
   "source": [
    "rk_arr = aes.core.key_expansion(mk_arr, 128)"
   ]
  },
  {
   "cell_type": "code",
   "execution_count": 30,
   "metadata": {},
   "outputs": [
    {
     "data": {
      "text/plain": [
       "[b'14',\n",
       " b'01',\n",
       " b'5e',\n",
       " b'21',\n",
       " b'c7',\n",
       " b'00',\n",
       " b'30',\n",
       " b'09',\n",
       " b'1f',\n",
       " b'5e',\n",
       " b'70',\n",
       " b'28',\n",
       " b'3b',\n",
       " b'1e',\n",
       " b'64',\n",
       " b'f8',\n",
       " b'67',\n",
       " b'42',\n",
       " b'1f',\n",
       " b'c3',\n",
       " b'a0',\n",
       " b'42',\n",
       " b'2f',\n",
       " b'ca',\n",
       " b'bf',\n",
       " b'1c',\n",
       " b'5f',\n",
       " b'e2',\n",
       " b'84',\n",
       " b'02',\n",
       " b'3b',\n",
       " b'1a',\n",
       " b'12',\n",
       " b'a0',\n",
       " b'bd',\n",
       " b'9c',\n",
       " b'b2',\n",
       " b'e2',\n",
       " b'92',\n",
       " b'56',\n",
       " b'0d',\n",
       " b'fe',\n",
       " b'cd',\n",
       " b'b4',\n",
       " b'89',\n",
       " b'fc',\n",
       " b'f6',\n",
       " b'ae',\n",
       " b'a6',\n",
       " b'e2',\n",
       " b'59',\n",
       " b'3b',\n",
       " b'14',\n",
       " b'00',\n",
       " b'cb',\n",
       " b'6d',\n",
       " b'19',\n",
       " b'fe',\n",
       " b'06',\n",
       " b'd9',\n",
       " b'90',\n",
       " b'02',\n",
       " b'f0',\n",
       " b'77',\n",
       " b'd9',\n",
       " b'6e',\n",
       " b'ac',\n",
       " b'5b',\n",
       " b'cd',\n",
       " b'6e',\n",
       " b'67',\n",
       " b'36',\n",
       " b'd4',\n",
       " b'90',\n",
       " b'61',\n",
       " b'ef',\n",
       " b'44',\n",
       " b'92',\n",
       " b'91',\n",
       " b'98',\n",
       " b'86',\n",
       " b'ef',\n",
       " b'ea',\n",
       " b'40',\n",
       " b'4b',\n",
       " b'81',\n",
       " b'8d',\n",
       " b'76',\n",
       " b'9f',\n",
       " b'11',\n",
       " b'ec',\n",
       " b'99',\n",
       " b'db',\n",
       " b'83',\n",
       " b'7d',\n",
       " b'01',\n",
       " b'4a',\n",
       " b'10',\n",
       " b'96',\n",
       " b'f9',\n",
       " b'01',\n",
       " b'91',\n",
       " b'1b',\n",
       " b'8f',\n",
       " b'9e',\n",
       " b'80',\n",
       " b'f7',\n",
       " b'16',\n",
       " b'45',\n",
       " b'03',\n",
       " b'8a',\n",
       " b'17',\n",
       " b'71',\n",
       " b'6e',\n",
       " b'66',\n",
       " b'97',\n",
       " b'70',\n",
       " b'ff',\n",
       " b'7d',\n",
       " b'18',\n",
       " b'ee',\n",
       " b'7f',\n",
       " b'8a',\n",
       " b'0e',\n",
       " b'ab',\n",
       " b'7c',\n",
       " b'00',\n",
       " b'19',\n",
       " b'e1',\n",
       " b'0d',\n",
       " b'b2',\n",
       " b'f5',\n",
       " b'91',\n",
       " b'f2',\n",
       " b'cf',\n",
       " b'ed',\n",
       " b'7f',\n",
       " b'8d',\n",
       " b'45',\n",
       " b'e3',\n",
       " b'd4',\n",
       " b'f1',\n",
       " b'45',\n",
       " b'fa',\n",
       " b'5b',\n",
       " b'63',\n",
       " b'9f',\n",
       " b'bd',\n",
       " b'ca',\n",
       " b'91',\n",
       " b'50',\n",
       " b'50',\n",
       " b'b5',\n",
       " b'1c',\n",
       " b'15',\n",
       " b'b3',\n",
       " b'61',\n",
       " b'ed',\n",
       " b'50',\n",
       " b'49',\n",
       " b'38',\n",
       " b'30',\n",
       " b'a4',\n",
       " b'52',\n",
       " b'f2',\n",
       " b'a1',\n",
       " b'f4',\n",
       " b'02',\n",
       " b'47',\n",
       " b'bd',\n",
       " b'e1',\n",
       " b'b1',\n",
       " b'26',\n",
       " b'50',\n",
       " b'b1',\n",
       " b'f8']"
      ]
     },
     "execution_count": 30,
     "metadata": {},
     "output_type": "execute_result"
    }
   ],
   "source": [
    "[hexlify(b.to_bytes()) for b in rk_arr]"
   ]
  }
 ],
 "metadata": {
  "kernelspec": {
   "display_name": "Python 3",
   "language": "python",
   "name": "python3"
  },
  "language_info": {
   "codemirror_mode": {
    "name": "ipython",
    "version": 3
   },
   "file_extension": ".py",
   "mimetype": "text/x-python",
   "name": "python",
   "nbconvert_exporter": "python",
   "pygments_lexer": "ipython3",
   "version": "3.11.9"
  }
 },
 "nbformat": 4,
 "nbformat_minor": 2
}
